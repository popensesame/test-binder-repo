{
 "cells": [
  {
   "cell_type": "code",
   "execution_count": 1,
   "metadata": {},
   "outputs": [],
   "source": [
    "#%matplotlib\n",
    "%matplotlib inline\n",
    "import os\n",
    "import numpy\n",
    "import matplotlib.pyplot as plt"
   ]
  },
  {
   "cell_type": "code",
   "execution_count": 2,
   "metadata": {},
   "outputs": [],
   "source": [
    "import sys\n",
    "sys.path.append('..')"
   ]
  },
  {
   "cell_type": "code",
   "execution_count": 3,
   "metadata": {},
   "outputs": [],
   "source": [
    "import gillespy2\n",
    "class ToggleSwitch(gillespy2.Model):\n",
    "    \"\"\" Gardner et al. Nature (1999)\n",
    "    'Construction of a genetic toggle switch in Escherichia coli'\n",
    "    \"\"\"\n",
    "    def __init__(self, parameter_values=None):\n",
    "        # Initialize the model.\n",
    "        gillespy2.Model.__init__(self, name=\"toggle_switch\")\n",
    "        # Parameters\n",
    "        alpha1 = gillespy2.Parameter(name='alpha1', expression=1)\n",
    "        alpha2 = gillespy2.Parameter(name='alpha2', expression=1)\n",
    "        beta = gillespy2.Parameter(name='beta', expression=\"2.0\")\n",
    "        gamma = gillespy2.Parameter(name='gamma', expression=\"2.0\")\n",
    "        mu = gillespy2.Parameter(name='mu', expression=1.0)\n",
    "        self.add_parameter([alpha1, alpha2, beta, gamma, mu])\n",
    "\n",
    "        # Species\n",
    "        U = gillespy2.Species(name='U', initial_value=10)\n",
    "        V = gillespy2.Species(name='V', initial_value=10)\n",
    "        self.add_species([U, V])\n",
    "\n",
    "        # Reactions\n",
    "        cu = gillespy2.Reaction(name=\"r1\",reactants={}, products={U:1},\n",
    "                propensity_function=\"alpha1/(1+pow(V,beta))\")\n",
    "        cv = gillespy2.Reaction(name=\"r2\",reactants={}, products={V:1},\n",
    "                propensity_function=\"alpha2/(1+pow(U,gamma))\")\n",
    "        du = gillespy2.Reaction(name=\"r3\",reactants={U:1}, products={},\n",
    "                rate=mu)\n",
    "        dv = gillespy2.Reaction(name=\"r4\",reactants={V:1}, products={},\n",
    "                rate=mu)\n",
    "        self.add_reaction([cu,cv,du,dv])\n",
    "        self.timespan(numpy.linspace(0,100,101))"
   ]
  },
  {
   "cell_type": "code",
   "execution_count": 4,
   "metadata": {},
   "outputs": [],
   "source": [
    "model = ToggleSwitch()"
   ]
  },
  {
   "cell_type": "code",
   "execution_count": 5,
   "metadata": {},
   "outputs": [],
   "source": [
    "results = model.run(show_labels=False)"
   ]
  },
  {
   "cell_type": "code",
   "execution_count": 6,
   "metadata": {},
   "outputs": [],
   "source": [
    "# If you have the deterministic solver\n",
    "from gillespy2.solvers.numpy.basic_ode_solver import BasicODESolver\n",
    "dresults = model.run(solver=BasicODESolver, show_labels=False)"
   ]
  },
  {
   "cell_type": "code",
   "execution_count": 7,
   "metadata": {},
   "outputs": [
    {
     "data": {
      "text/plain": [
       "<matplotlib.legend.Legend at 0x7f883e1f0780>"
      ]
     },
     "execution_count": 7,
     "metadata": {},
     "output_type": "execute_result"
    },
    {
     "data": {
      "image/png": "[encoded data removed]",
      "text/plain": [
       "<Figure size 432x288 with 1 Axes>"
      ]
     },
     "metadata": {},
     "output_type": "display_data"
    }
   ],
   "source": [
    "plt.plot(results[0][:,0],results[0][:,1],'-r', label='U')\n",
    "plt.plot(results[0][:,0],results[0][:,2],'-b', label='V')\n",
    "plt.plot([0],[11])\n",
    "plt.legend(loc='best')"
   ]
  },
  {
   "cell_type": "code",
   "execution_count": 8,
   "metadata": {},
   "outputs": [
    {
     "data": {
      "text/plain": [
       "<matplotlib.legend.Legend at 0x7f883c19bf98>"
      ]
     },
     "execution_count": 8,
     "metadata": {},
     "output_type": "execute_result"
    },
    {
     "data": {
      "image/png": "[encoded data removed]",
      "text/plain": [
       "<Figure size 432x288 with 1 Axes>"
      ]
     },
     "metadata": {},
     "output_type": "display_data"
    }
   ],
   "source": [
    "plt.plot(dresults[0][:,0],dresults[0][:,1],'-r', label='U')\n",
    "plt.plot(dresults[0][:,0],dresults[0][:,2],'-b', label='V')\n",
    "plt.plot([0],[11])\n",
    "plt.legend(loc='best')"
   ]
  },
  {
   "cell_type": "code",
   "execution_count": null,
   "metadata": {},
   "outputs": [],
   "source": []
  },
  {
   "cell_type": "code",
   "execution_count": 9,
   "metadata": {},
   "outputs": [
    {
     "data": {
      "text/plain": [
       "array([[[  0.,  10.,  10.],\n",
       "        [  1.,   7.,   6.],\n",
       "        [  2.,   2.,   2.],\n",
       "        [  3.,   1.,   2.],\n",
       "        [  4.,   1.,   1.],\n",
       "        [  5.,   0.,   0.],\n",
       "        [  6.,   0.,   0.],\n",
       "        [  7.,   0.,   0.],\n",
       "        [  8.,   0.,   0.],\n",
       "        [  9.,   2.,   1.],\n",
       "        [ 10.,   1.,   1.],\n",
       "        [ 11.,   1.,   1.],\n",
       "        [ 12.,   1.,   0.],\n",
       "        [ 13.,   1.,   0.],\n",
       "        [ 14.,   2.,   1.],\n",
       "        [ 15.,   1.,   0.],\n",
       "        [ 16.,   0.,   0.],\n",
       "        [ 17.,   0.,   1.],\n",
       "        [ 18.,   0.,   0.],\n",
       "        [ 19.,   1.,   1.],\n",
       "        [ 20.,   1.,   1.],\n",
       "        [ 21.,   0.,   1.],\n",
       "        [ 22.,   0.,   1.],\n",
       "        [ 23.,   0.,   0.],\n",
       "        [ 24.,   1.,   0.],\n",
       "        [ 25.,   2.,   0.],\n",
       "        [ 26.,   3.,   1.],\n",
       "        [ 27.,   2.,   1.],\n",
       "        [ 28.,   3.,   0.],\n",
       "        [ 29.,   4.,   0.],\n",
       "        [ 30.,   2.,   0.],\n",
       "        [ 31.,   3.,   0.],\n",
       "        [ 32.,   0.,   0.],\n",
       "        [ 33.,   1.,   0.],\n",
       "        [ 34.,   1.,   0.],\n",
       "        [ 35.,   1.,   0.],\n",
       "        [ 36.,   0.,   0.],\n",
       "        [ 37.,   1.,   0.],\n",
       "        [ 38.,   2.,   0.],\n",
       "        [ 39.,   1.,   0.],\n",
       "        [ 40.,   0.,   0.],\n",
       "        [ 41.,   0.,   0.],\n",
       "        [ 42.,   1.,   0.],\n",
       "        [ 43.,   1.,   0.],\n",
       "        [ 44.,   0.,   0.],\n",
       "        [ 45.,   0.,   1.],\n",
       "        [ 46.,   1.,   1.],\n",
       "        [ 47.,   0.,   0.],\n",
       "        [ 48.,   1.,   0.],\n",
       "        [ 49.,   0.,   1.],\n",
       "        [ 50.,   0.,   1.],\n",
       "        [ 51.,   0.,   0.],\n",
       "        [ 52.,   2.,   1.],\n",
       "        [ 53.,   0.,   0.],\n",
       "        [ 54.,   0.,   1.],\n",
       "        [ 55.,   0.,   1.],\n",
       "        [ 56.,   0.,   2.],\n",
       "        [ 57.,   0.,   1.],\n",
       "        [ 58.,   0.,   1.],\n",
       "        [ 59.,   0.,   2.],\n",
       "        [ 60.,   0.,   1.],\n",
       "        [ 61.,   0.,   0.],\n",
       "        [ 62.,   0.,   1.],\n",
       "        [ 63.,   2.,   1.],\n",
       "        [ 64.,   2.,   1.],\n",
       "        [ 65.,   2.,   1.],\n",
       "        [ 66.,   1.,   0.],\n",
       "        [ 67.,   2.,   0.],\n",
       "        [ 68.,   0.,   0.],\n",
       "        [ 69.,   0.,   0.],\n",
       "        [ 70.,   1.,   0.],\n",
       "        [ 71.,   0.,   0.],\n",
       "        [ 72.,   0.,   1.],\n",
       "        [ 73.,   0.,   2.],\n",
       "        [ 74.,   0.,   2.],\n",
       "        [ 75.,   0.,   1.],\n",
       "        [ 76.,   0.,   2.],\n",
       "        [ 77.,   0.,   0.],\n",
       "        [ 78.,   0.,   2.],\n",
       "        [ 79.,   0.,   2.],\n",
       "        [ 80.,   0.,   3.],\n",
       "        [ 81.,   0.,   3.],\n",
       "        [ 82.,   2.,   1.],\n",
       "        [ 83.,   0.,   1.],\n",
       "        [ 84.,   0.,   4.],\n",
       "        [ 85.,   1.,   1.],\n",
       "        [ 86.,   0.,   3.],\n",
       "        [ 87.,   0.,   3.],\n",
       "        [ 88.,   0.,   1.],\n",
       "        [ 89.,   0.,   2.],\n",
       "        [ 90.,   0.,   2.],\n",
       "        [ 91.,   0.,   3.],\n",
       "        [ 92.,   0.,   1.],\n",
       "        [ 93.,   0.,   2.],\n",
       "        [ 94.,   0.,   4.],\n",
       "        [ 95.,   0.,   1.],\n",
       "        [ 96.,   0.,   1.],\n",
       "        [ 97.,   0.,   1.],\n",
       "        [ 98.,   0.,   0.],\n",
       "        [ 99.,   0.,   2.],\n",
       "        [100.,   0.,   5.]]])"
      ]
     },
     "execution_count": 9,
     "metadata": {},
     "output_type": "execute_result"
    }
   ],
   "source": [
    "results"
   ]
  },
  {
   "cell_type": "code",
   "execution_count": 10,
   "metadata": {},
   "outputs": [
    {
     "data": {
      "text/plain": [
       "array([[[0.00000000e+000, 1.00000000e+001, 1.00000000e+001],\n",
       "        [1.00000000e+000, 3.70104067e+000, 3.70104067e+000],\n",
       "        [2.00000000e+000, 1.48248600e+000, 1.48248600e+000],\n",
       "        [3.00000000e+000, 8.51904419e-001, 8.51904419e-001],\n",
       "        [4.00000000e+000, 7.15806014e-001, 7.15806014e-001],\n",
       "        [5.00000000e+000, 6.88866441e-001, 6.88866441e-001],\n",
       "        [6.00000000e+000, 6.83602607e-001, 6.83602607e-001],\n",
       "        [7.00000000e+000, 6.82576263e-001, 6.82576263e-001],\n",
       "        [8.00000000e+000, 6.82376227e-001, 6.82376227e-001],\n",
       "        [9.00000000e+000, 6.82337241e-001, 6.82337241e-001],\n",
       "        [1.00000000e+001, 6.82329642e-001, 6.82329642e-001],\n",
       "        [1.10000000e+001, 6.82328163e-001, 6.82328163e-001],\n",
       "        [1.20000000e+001, 6.82327873e-001, 6.82327873e-001],\n",
       "        [1.30000000e+001, 6.82327817e-001, 6.82327817e-001],\n",
       "        [1.40000000e+001, 6.82327807e-001, 6.82327807e-001],\n",
       "        [1.50000000e+001, 6.82327804e-001, 6.82327804e-001],\n",
       "        [1.60000000e+001, 6.82327803e-001, 6.82327803e-001],\n",
       "        [1.70000000e+001, 6.82327803e-001, 6.82327803e-001],\n",
       "        [1.80000000e+001, 6.82327803e-001, 6.82327803e-001],\n",
       "        [1.90000000e+001, 6.82327804e-001, 6.82327804e-001],\n",
       "        [2.00000000e+001, 6.82327804e-001, 6.82327804e-001],\n",
       "        [2.10000000e+001, 6.82327804e-001, 6.82327804e-001],\n",
       "        [2.20000000e+001, 6.82327804e-001, 6.82327804e-001],\n",
       "        [2.30000000e+001, 6.82327804e-001, 6.82327804e-001],\n",
       "        [2.40000000e+001, 6.82327804e-001, 6.82327804e-001],\n",
       "        [2.50000000e+001, 6.82327804e-001, 6.82327804e-001],\n",
       "        [2.60000000e+001, 6.82327804e-001, 6.82327804e-001],\n",
       "        [2.70000000e+001, 6.82327804e-001, 6.82327804e-001],\n",
       "        [2.80000000e+001, 6.82327804e-001, 6.82327804e-001],\n",
       "        [2.90000000e+001, 6.82327804e-001, 6.82327804e-001],\n",
       "        [3.00000000e+001, 6.82327804e-001, 6.82327804e-001],\n",
       "        [3.10000000e+001, 6.82327804e-001, 6.82327804e-001],\n",
       "        [3.20000000e+001, 6.82327804e-001, 6.82327804e-001],\n",
       "        [3.30000000e+001, 6.82327804e-001, 6.82327804e-001],\n",
       "        [3.40000000e+001, 6.82327804e-001, 6.82327804e-001],\n",
       "        [3.50000000e+001, 6.82327804e-001, 6.82327804e-001],\n",
       "        [3.60000000e+001, 6.82327804e-001, 6.82327804e-001],\n",
       "        [3.70000000e+001, 6.82327804e-001, 6.82327804e-001],\n",
       "        [3.80000000e+001, 6.82327804e-001, 6.82327804e-001],\n",
       "        [3.90000000e+001, 6.82327804e-001, 6.82327804e-001],\n",
       "        [4.00000000e+001, 6.82327804e-001, 6.82327804e-001],\n",
       "        [4.10000000e+001, 6.82327804e-001, 6.82327804e-001],\n",
       "        [4.20000000e+001, 6.82327804e-001, 6.82327804e-001],\n",
       "        [4.30000000e+001, 6.82327804e-001, 6.82327804e-001],\n",
       "        [4.40000000e+001, 6.82327804e-001, 6.82327804e-001],\n",
       "        [4.50000000e+001, 6.82327804e-001, 6.82327804e-001],\n",
       "        [4.60000000e+001, 6.82327804e-001, 6.82327804e-001],\n",
       "        [4.70000000e+001, 6.82327804e-001, 6.82327804e-001],\n",
       "        [4.80000000e+001, 6.82327804e-001, 6.82327804e-001],\n",
       "        [4.90000000e+001, 6.82327804e-001, 6.82327804e-001],\n",
       "        [5.00000000e+001, 6.82327804e-001, 6.82327804e-001],\n",
       "        [5.10000000e+001, 6.82327804e-001, 6.82327804e-001],\n",
       "        [5.20000000e+001, 6.82327804e-001, 6.82327804e-001],\n",
       "        [5.30000000e+001, 6.82327804e-001, 6.82327804e-001],\n",
       "        [5.40000000e+001, 6.82327804e-001, 6.82327804e-001],\n",
       "        [5.50000000e+001, 6.82327804e-001, 6.82327804e-001],\n",
       "        [5.60000000e+001, 6.82327804e-001, 6.82327804e-001],\n",
       "        [5.70000000e+001, 6.82327804e-001, 6.82327804e-001],\n",
       "        [5.80000000e+001, 6.82327804e-001, 6.82327804e-001],\n",
       "        [5.90000000e+001, 6.82327804e-001, 6.82327804e-001],\n",
       "        [6.00000000e+001, 6.82327804e-001, 6.82327804e-001],\n",
       "        [6.10000000e+001, 6.82327804e-001, 6.82327804e-001],\n",
       "        [6.20000000e+001, 6.82327804e-001, 6.82327804e-001],\n",
       "        [6.30000000e+001, 6.82327804e-001, 6.82327804e-001],\n",
       "        [6.40000000e+001, 6.82327804e-001, 6.82327804e-001],\n",
       "        [6.50000000e+001, 6.82327804e-001, 6.82327804e-001],\n",
       "        [6.60000000e+001, 6.82327804e-001, 6.82327804e-001],\n",
       "        [6.70000000e+001, 6.82327804e-001, 6.82327804e-001],\n",
       "        [6.80000000e+001, 6.82327804e-001, 6.82327804e-001],\n",
       "        [6.90000000e+001, 6.82327804e-001, 6.82327804e-001],\n",
       "        [7.00000000e+001, 6.82327804e-001, 6.82327804e-001],\n",
       "        [7.10000000e+001, 6.82327804e-001, 6.82327804e-001],\n",
       "        [7.20000000e+001, 6.82327804e-001, 6.82327804e-001],\n",
       "        [7.30000000e+001, 6.82327804e-001, 6.82327804e-001],\n",
       "        [7.40000000e+001, 6.82327804e-001, 6.82327804e-001],\n",
       "        [7.50000000e+001, 6.82327804e-001, 6.82327804e-001],\n",
       "        [7.60000000e+001, 6.82327804e-001, 6.82327804e-001],\n",
       "        [7.70000000e+001, 6.82327804e-001, 6.82327804e-001],\n",
       "        [7.80000000e+001, 6.82327804e-001, 6.82327804e-001],\n",
       "        [7.90000000e+001, 6.82327804e-001, 6.82327804e-001],\n",
       "        [8.00000000e+001, 6.82327804e-001, 6.82327804e-001],\n",
       "        [8.10000000e+001, 6.82327804e-001, 6.82327804e-001],\n",
       "        [8.20000000e+001, 6.82327804e-001, 6.82327804e-001],\n",
       "        [8.30000000e+001, 6.82327804e-001, 6.82327804e-001],\n",
       "        [8.40000000e+001, 6.82327804e-001, 6.82327804e-001],\n",
       "        [8.50000000e+001, 6.82327804e-001, 6.82327804e-001],\n",
       "        [8.60000000e+001, 6.82327804e-001, 6.82327804e-001],\n",
       "        [8.70000000e+001, 6.82327804e-001, 6.82327804e-001],\n",
       "        [8.80000000e+001, 6.82327804e-001, 6.82327804e-001],\n",
       "        [8.90000000e+001, 6.82327804e-001, 6.82327804e-001],\n",
       "        [9.00000000e+001, 6.82327804e-001, 6.82327804e-001],\n",
       "        [9.10000000e+001, 6.82327804e-001, 6.82327804e-001],\n",
       "        [9.20000000e+001, 6.82327804e-001, 6.82327804e-001],\n",
       "        [9.30000000e+001, 6.82327804e-001, 6.82327804e-001],\n",
       "        [9.40000000e+001, 6.82327804e-001, 6.82327804e-001],\n",
       "        [9.50000000e+001, 6.82327804e-001, 6.82327804e-001],\n",
       "        [9.60000000e+001, 6.82327804e-001, 6.82327804e-001],\n",
       "        [9.70000000e+001, 6.82327804e-001, 6.82327804e-001],\n",
       "        [9.80000000e+001, 6.82327804e-001, 6.82327804e-001],\n",
       "        [9.90000000e+001, 6.82327804e-001, 6.82327804e-001],\n",
       "        [5.22686618e+289, 9.68499437e+139, 1.82491785e+251]]])"
      ]
     },
     "execution_count": 10,
     "metadata": {},
     "output_type": "execute_result"
    }
   ],
   "source": [
    "dresults"
   ]
  },
  {
   "cell_type": "code",
   "execution_count": null,
   "metadata": {},
   "outputs": [],
   "source": []
  }
 ],
 "metadata": {
  "kernelspec": {
   "display_name": "Python 3",
   "language": "python",
   "name": "python3"
  },
  "language_info": {
   "codemirror_mode": {
    "name": "ipython",
    "version": 3
   },
   "file_extension": ".py",
   "mimetype": "text/x-python",
   "name": "python",
   "nbconvert_exporter": "python",
   "pygments_lexer": "ipython3",
   "version": "3.6.7"
  }
 },
 "nbformat": 4,
 "nbformat_minor": 1
}
